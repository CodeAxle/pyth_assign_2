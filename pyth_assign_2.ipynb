{
 "cells": [
  {
   "cell_type": "markdown",
   "id": "13b746db",
   "metadata": {},
   "source": [
    "# 1."
   ]
  },
  {
   "cell_type": "code",
   "execution_count": 1,
   "id": "91165b47",
   "metadata": {},
   "outputs": [],
   "source": [
    "# 1.The Boolean data type in Python has two values: True and False, they are written exactly as first letter capitalized and the rest in lowercase.\n",
    "\n",
    "# For example:\n",
    "\n",
    "# True\n",
    "# False"
   ]
  },
  {
   "cell_type": "markdown",
   "id": "4c3c6bb7",
   "metadata": {},
   "source": [
    "# 2."
   ]
  },
  {
   "cell_type": "code",
   "execution_count": 2,
   "id": "c5e1475b",
   "metadata": {},
   "outputs": [],
   "source": [
    "# 2.The three different types of Boolean operators in Python are:\n",
    "\n",
    "# a) AND operator: denoted by and, it returns True if both operands are True, otherwise, it returns False.\n",
    "# b) OR operator: denoted by or, it returns True if at least one of the operands is True, otherwise, it returns False.\n",
    "# c) NOT operator: denoted by not, it returns the opposite boolean value of the operand, if the operand is True, not returns False, and if the operand is False, not returns True.\n",
    "\n",
    "# Implementation:\n",
    "# and: Returns True if both operands are True, otherwise False.\n",
    "# or: Returns True if at least one operand is True, otherwise False.\n",
    "# not: Returns the opposite boolean value of the operand."
   ]
  },
  {
   "cell_type": "markdown",
   "id": "e7f9b1af",
   "metadata": {},
   "source": [
    "# 3."
   ]
  },
  {
   "cell_type": "code",
   "execution_count": null,
   "id": "35478f5e",
   "metadata": {},
   "outputs": [],
   "source": [
    "\n",
    "# a)AND Operator (A and B):\n",
    "#   | A     | B     | A and B |\n",
    "#   |-------|-------|---------|\n",
    "#   | True  | True  | True    |\n",
    "#   | True  | False | False   |\n",
    "#   | False | True  | False   |\n",
    "#   | False | False | False   |\n",
    "\n",
    "# b)OR Operator (A or B):\n",
    "#   | A     | B     | A or B  |\n",
    "#   |-------|-------|---------|\n",
    "#   | True  | True  | True    |\n",
    "#   | True  | False | True    |\n",
    "#   | False | True  | True    |\n",
    "#   | False | False | False   |\n",
    "\n",
    "# c)NOT Operator (not A):\n",
    "#   | A     | not A |\n",
    "#   |-------|-------|\n",
    "#   | True  | False |\n",
    "#   | False | True  |"
   ]
  },
  {
   "cell_type": "markdown",
   "id": "5826886d",
   "metadata": {},
   "source": [
    "# 4."
   ]
  },
  {
   "cell_type": "code",
   "execution_count": 24,
   "id": "2b6c011e",
   "metadata": {},
   "outputs": [
    {
     "data": {
      "text/plain": [
       "False"
      ]
     },
     "execution_count": 24,
     "metadata": {},
     "output_type": "execute_result"
    }
   ],
   "source": [
    "(5 > 4) and (3 == 5)"
   ]
  },
  {
   "cell_type": "code",
   "execution_count": 25,
   "id": "e57f946f",
   "metadata": {},
   "outputs": [
    {
     "data": {
      "text/plain": [
       "False"
      ]
     },
     "execution_count": 25,
     "metadata": {},
     "output_type": "execute_result"
    }
   ],
   "source": [
    "not (5 > 4)"
   ]
  },
  {
   "cell_type": "code",
   "execution_count": 26,
   "id": "d1427313",
   "metadata": {},
   "outputs": [
    {
     "data": {
      "text/plain": [
       "True"
      ]
     },
     "execution_count": 26,
     "metadata": {},
     "output_type": "execute_result"
    }
   ],
   "source": [
    " (5 > 4) or (3 == 5)"
   ]
  },
  {
   "cell_type": "code",
   "execution_count": 27,
   "id": "76abf36f",
   "metadata": {},
   "outputs": [
    {
     "data": {
      "text/plain": [
       "False"
      ]
     },
     "execution_count": 27,
     "metadata": {},
     "output_type": "execute_result"
    }
   ],
   "source": [
    "not ((5 > 4) or (3 == 5)) "
   ]
  },
  {
   "cell_type": "code",
   "execution_count": 28,
   "id": "29f38bff",
   "metadata": {},
   "outputs": [
    {
     "data": {
      "text/plain": [
       "False"
      ]
     },
     "execution_count": 28,
     "metadata": {},
     "output_type": "execute_result"
    }
   ],
   "source": [
    "(True and True) and (True == False)"
   ]
  },
  {
   "cell_type": "code",
   "execution_count": 29,
   "id": "7b35a577",
   "metadata": {},
   "outputs": [
    {
     "data": {
      "text/plain": [
       "True"
      ]
     },
     "execution_count": 29,
     "metadata": {},
     "output_type": "execute_result"
    }
   ],
   "source": [
    "(not False) or (not True)"
   ]
  },
  {
   "cell_type": "markdown",
   "id": "627568c4",
   "metadata": {},
   "source": [
    "# 5."
   ]
  },
  {
   "cell_type": "code",
   "execution_count": 5,
   "id": "f2a62a87",
   "metadata": {},
   "outputs": [],
   "source": [
    "#The six comparison operators in Python are:\n",
    "\n",
    "# a) Equal to: ==\n",
    "# b) Not equal to: !=\n",
    "# c) Greater than: >\n",
    "# d) Less than: <\n",
    "# e) Greater than or equal to: >=\n",
    "# f) Less than or equal to: <="
   ]
  },
  {
   "cell_type": "markdown",
   "id": "30368a75",
   "metadata": {},
   "source": [
    "# 6."
   ]
  },
  {
   "cell_type": "code",
   "execution_count": 6,
   "id": "54eb474d",
   "metadata": {},
   "outputs": [],
   "source": [
    "# a) The equal to operator (==) is used to compare two values to check if they are equal, it is a comparison operator that returns True if the values are equal and False otherwise.\n",
    "\n",
    "# b) The assignment operator (=) is used to assign a value to a variable. It assigns the value on the right-hand side to the variable on the left-hand side.\n",
    "\n",
    "# ex: a = 5 (assignment)\n",
    "\n",
    "#     a == 5, b == 5\n",
    "#     a == b (equal)"
   ]
  },
  {
   "cell_type": "markdown",
   "id": "f921c98c",
   "metadata": {},
   "source": [
    "# 7."
   ]
  },
  {
   "cell_type": "code",
   "execution_count": 7,
   "id": "c9f3bcb7",
   "metadata": {},
   "outputs": [],
   "source": [
    "# There are three main blocks of code:\n",
    "# a)First if block:(This block checks if the variable spam is equal to 10. If it is, it prints 'eggs'.)\n",
    "# if spam == 10:\n",
    "#   print('eggs')\n",
    "\n",
    "# b)Second if block:(This block checks if the variable spam is greater than 5. If it is, it prints 'bacon'. )\n",
    "# if spam > 5:\n",
    "#  print('bacon')\n",
    "\n",
    "# c)else block:(This block is associated with the second if statement. If the condition spam > 5 is not met.)\n",
    "# else:\n",
    "#     print('ham')\n"
   ]
  },
  {
   "cell_type": "markdown",
   "id": "beb1f019",
   "metadata": {},
   "source": [
    "# 8."
   ]
  },
  {
   "cell_type": "code",
   "execution_count": 23,
   "id": "8d756e2f",
   "metadata": {},
   "outputs": [
    {
     "name": "stdout",
     "output_type": "stream",
     "text": [
      "5\n",
      "Greetings!\n"
     ]
    }
   ],
   "source": [
    "spam = int(input())  #(taking input from user ex:- 5)\n",
    "\n",
    "if spam == 1:\n",
    "    print('Hello')\n",
    "elif spam == 2:\n",
    "    print('Howdy')\n",
    "else:\n",
    "    print('Greetings!')\n"
   ]
  },
  {
   "cell_type": "code",
   "execution_count": 8,
   "id": "ac913f6c",
   "metadata": {},
   "outputs": [],
   "source": [
    "# In this code:\n",
    "\n",
    "# If the value stored in spam is equal to 1, it prints 'Hello'.\n",
    "# If the value stored in spam is equal to 2, it prints 'Howdy'.\n",
    "# If the value stored in spam is anything else (not 1 or 2), it prints 'Greetings!'"
   ]
  },
  {
   "cell_type": "markdown",
   "id": "cbb9cb4c",
   "metadata": {},
   "source": [
    "# 9."
   ]
  },
  {
   "cell_type": "code",
   "execution_count": 9,
   "id": "852055f3",
   "metadata": {},
   "outputs": [],
   "source": [
    "# Windows: Press Ctrl + C.\n",
    "#  MacOS/Linux: Press Ctrl + C or Cmd + C."
   ]
  },
  {
   "cell_type": "markdown",
   "id": "b2ed0bbb",
   "metadata": {},
   "source": [
    "# 10."
   ]
  },
  {
   "cell_type": "code",
   "execution_count": 10,
   "id": "279a092d",
   "metadata": {},
   "outputs": [],
   "source": [
    "# 10.The break and continue statements are both control flow statements used in loops in programming languages like Python\n",
    "\n",
    "# a)Break:\n",
    "# i)When a break statement is encountered inside a loop (e.g., for loop or while loop), the loop is terminated immediately, and program control moves to the statement following the loop.\n",
    "# ii) It is used to exit a loop prematurely if a certain condition is met or to stop the loop execution altogether.\n",
    "# iii) ex: for i in range(5):\n",
    "#             if i == 3:\n",
    "#                break\n",
    "#              print(i)"
   ]
  },
  {
   "cell_type": "code",
   "execution_count": 21,
   "id": "dcc4d96d",
   "metadata": {},
   "outputs": [
    {
     "name": "stdout",
     "output_type": "stream",
     "text": [
      "0\n",
      "1\n",
      "2\n"
     ]
    }
   ],
   "source": [
    "for i in range(5):\n",
    "    if i == 3:\n",
    "        break\n",
    "    print(i)\n"
   ]
  },
  {
   "cell_type": "code",
   "execution_count": null,
   "id": "2c75ba5e",
   "metadata": {},
   "outputs": [],
   "source": [
    "# b)Continue: C\n",
    "# i) When a continue statement is encountered inside a loop, the current iteration of the loop is terminated immediately, and the program control moves to the next iteration of the loop.\n",
    "# ii) Used to skip the remaining code in the current iteration and proceed to the next iteration of the loop.\n",
    "# iii) ex: for i in range(5):\n",
    "#             if i == 2:\n",
    "#               continue\n",
    "#             print(i)"
   ]
  },
  {
   "cell_type": "code",
   "execution_count": 22,
   "id": "7ddee652",
   "metadata": {},
   "outputs": [
    {
     "name": "stdout",
     "output_type": "stream",
     "text": [
      "0\n",
      "1\n",
      "3\n",
      "4\n"
     ]
    }
   ],
   "source": [
    "for i in range(5):\n",
    "    if i == 2:\n",
    "        continue\n",
    "    print(i)\n"
   ]
  },
  {
   "cell_type": "markdown",
   "id": "5329dbd8",
   "metadata": {},
   "source": [
    "# 11."
   ]
  },
  {
   "cell_type": "markdown",
   "id": "30e01815",
   "metadata": {},
   "source": [
    "11. In Python, the range() function is used to generate a sequence of numbers."
   ]
  },
  {
   "cell_type": "code",
   "execution_count": 15,
   "id": "0824194b",
   "metadata": {},
   "outputs": [
    {
     "name": "stdout",
     "output_type": "stream",
     "text": [
      "0\n",
      "1\n",
      "2\n",
      "3\n",
      "4\n",
      "5\n",
      "6\n",
      "7\n",
      "8\n",
      "9\n"
     ]
    }
   ],
   "source": [
    "# a) range(10):This generates a sequence of numbers starting from 0 (default start value) up to (but not including) 10 (stop value).\n",
    "for i in range(10):\n",
    "         print(i)"
   ]
  },
  {
   "cell_type": "code",
   "execution_count": 16,
   "id": "2eca8fce",
   "metadata": {},
   "outputs": [
    {
     "name": "stdout",
     "output_type": "stream",
     "text": [
      "0\n",
      "1\n",
      "2\n",
      "3\n",
      "4\n",
      "5\n",
      "6\n",
      "7\n",
      "8\n",
      "9\n"
     ]
    }
   ],
   "source": [
    "# b) range(0, 10):This also generates a sequence of numbers starting from 0 (explicitly specified start value) up to (but not including) 10 (stop value).\n",
    "for i in range(0, 10):\n",
    "      print(i)"
   ]
  },
  {
   "cell_type": "code",
   "execution_count": 18,
   "id": "250a7136",
   "metadata": {},
   "outputs": [
    {
     "name": "stdout",
     "output_type": "stream",
     "text": [
      "0\n",
      "1\n",
      "2\n",
      "3\n",
      "4\n",
      "5\n",
      "6\n",
      "7\n",
      "8\n",
      "9\n"
     ]
    }
   ],
   "source": [
    "# c) range(0, 10, 1):\n",
    "# This generates a sequence of numbers starting from 0 (explicitly specified start value) up to (but not including) 10 (stop value).\n",
    "# The step value is explicitly set to 1 (specified step value).\n",
    "for i in range(0, 10, 1):\n",
    "    print(i)\n"
   ]
  },
  {
   "cell_type": "markdown",
   "id": "f44eb8b6",
   "metadata": {},
   "source": [
    "# 12."
   ]
  },
  {
   "cell_type": "code",
   "execution_count": 14,
   "id": "3c40a1cc",
   "metadata": {},
   "outputs": [
    {
     "name": "stdout",
     "output_type": "stream",
     "text": [
      "1\n",
      "2\n",
      "3\n",
      "4\n",
      "5\n",
      "6\n",
      "7\n",
      "8\n",
      "9\n",
      "10\n"
     ]
    }
   ],
   "source": [
    "# a) short program that prints the numbers 1 to 10 using a for loop:\n",
    "for i in range(1, 11):\n",
    "    print(i)"
   ]
  },
  {
   "cell_type": "code",
   "execution_count": 13,
   "id": "fe24b8ea",
   "metadata": {},
   "outputs": [
    {
     "name": "stdout",
     "output_type": "stream",
     "text": [
      "1\n",
      "2\n",
      "3\n",
      "4\n",
      "5\n",
      "6\n",
      "7\n",
      "8\n",
      "9\n",
      "10\n"
     ]
    }
   ],
   "source": [
    "# b) Using a while loop:\n",
    "num = 1\n",
    "while num <= 10:\n",
    "    print(num)\n",
    "    num += 1"
   ]
  },
  {
   "cell_type": "markdown",
   "id": "ef3f9963",
   "metadata": {},
   "source": [
    "# 13."
   ]
  },
  {
   "cell_type": "code",
   "execution_count": null,
   "id": "f2776230",
   "metadata": {},
   "outputs": [],
   "source": [
    "# 13.After importing the module spam, you can call the function bacon() using the dot notation, which specifies the module name followed by the function name:\n",
    "\n",
    "# import spam\n",
    "\n",
    "# # Call the bacon() function from the spam module\n",
    "# spam.bacon()"
   ]
  }
 ],
 "metadata": {
  "kernelspec": {
   "display_name": "Python 3 (ipykernel)",
   "language": "python",
   "name": "python3"
  },
  "language_info": {
   "codemirror_mode": {
    "name": "ipython",
    "version": 3
   },
   "file_extension": ".py",
   "mimetype": "text/x-python",
   "name": "python",
   "nbconvert_exporter": "python",
   "pygments_lexer": "ipython3",
   "version": "3.11.5"
  }
 },
 "nbformat": 4,
 "nbformat_minor": 5
}
